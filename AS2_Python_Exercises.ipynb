{
  "nbformat": 4,
  "nbformat_minor": 0,
  "metadata": {
    "colab": {
      "provenance": [],
      "authorship_tag": "ABX9TyM8xs+/Siglg5hvfsQ9L6/l",
      "include_colab_link": true
    },
    "kernelspec": {
      "name": "python3",
      "display_name": "Python 3"
    },
    "language_info": {
      "name": "python"
    }
  },
  "cells": [
    {
      "cell_type": "markdown",
      "metadata": {
        "id": "view-in-github",
        "colab_type": "text"
      },
      "source": [
        "<a href=\"https://colab.research.google.com/github/navarro1113/Assigment/blob/main/AS2_Python_Exercises.ipynb\" target=\"_parent\"><img src=\"https://colab.research.google.com/assets/colab-badge.svg\" alt=\"Open In Colab\"/></a>"
      ]
    },
    {
      "cell_type": "code",
      "execution_count": 9,
      "metadata": {
        "colab": {
          "base_uri": "https://localhost:8080/"
        },
        "id": "CyLYUwFwyXz4",
        "outputId": "1e5536aa-42d1-4e50-cc20-a660dc727217"
      },
      "outputs": [
        {
          "output_type": "stream",
          "name": "stdout",
          "text": [
            "Number of words: 44\n",
            "Number of sentences: 2\n",
            "Number of paragraphs: 1\n",
            "Average word length: 3.93\n",
            "Most common words:\n",
            "the: 3\n",
            "to: 2\n",
            "with: 2\n",
            "his: 2\n",
            "at: 2\n",
            "was: 2\n",
            "i: 1\n",
            "belong: 1\n",
            "jesus: 1\n",
            "that: 1\n"
          ]
        }
      ],
      "source": [
        "#Text Analysis Tool: Create a Python program that reads a text file and\n",
        "#performs various analyses on its content. The program should: Count the number\n",
        "#of words, sentences, and paragraphs. Calculate the average word length.\n",
        "#Identify the most common words and their frequencies.\n",
        "\n",
        "import re\n",
        "from collections import Counter\n",
        "\n",
        "def read_text_file(file_path):\n",
        "    with open(file_path, 'r') as file:\n",
        "        return file.read()\n",
        "\n",
        "def count_words(text):\n",
        "    words = re.findall(r'\\w+', text)\n",
        "    return len(words)\n",
        "\n",
        "def count_sentences(text):\n",
        "    sentences = re.split(r'[.!?]', text)\n",
        "    return len(sentences)\n",
        "\n",
        "def count_paragraphs(text):\n",
        "    paragraphs = re.split(r'\\n\\s*\\n', text)\n",
        "    return len(paragraphs)\n",
        "\n",
        "def average_word_length(text):\n",
        "    words = re.findall(r'\\w+', text)\n",
        "    total_length = sum(len(word) for word in words)\n",
        "    return total_length / len(words)\n",
        "\n",
        "def most_common_words(text, num_words=10):\n",
        "    words = re.findall(r'\\w+', text.lower())\n",
        "    word_counts = Counter(words)\n",
        "    return word_counts.most_common(num_words)\n",
        "\n",
        "# Path of the file you want to analize\n",
        "file_path = r'/Kaká.txt'\n",
        "\n",
        "# Read the file\n",
        "text_content = read_text_file(file_path)\n",
        "\n",
        "# Perform analysis\n",
        "num_words = count_words(text_content)\n",
        "num_sentences = count_sentences(text_content)\n",
        "num_paragraphs = count_paragraphs(text_content)\n",
        "avg_word_length = average_word_length(text_content)\n",
        "common_words = most_common_words(text_content)\n",
        "\n",
        "# Print results\n",
        "print(f'Number of words: {num_words}')\n",
        "print(f'Number of sentences: {num_sentences}')\n",
        "print(f'Number of paragraphs: {num_paragraphs}')\n",
        "print(f'Average word length: {avg_word_length:.2f}')\n",
        "print(f'Most common words:')\n",
        "for word, freq in common_words:\n",
        "    print(f'{word}: {freq}')\n"
      ]
    },
    {
      "cell_type": "code",
      "source": [
        "#Hangman Game: Create a Python program that allows a user to play the game of\n",
        "#Hangman. The program should randomly select a word from a predefined list,\n",
        "#and the player must guess letters one at a time until they guess the word\n",
        "#correctly or run out of attempts.\n",
        "\n",
        "import random\n",
        "def choose_word():\n",
        "    words = ['python', 'intelligence', 'artificial', 'assigment', 'colab', 'google']\n",
        "    return random.choice(words)\n",
        "\n",
        "def display_word(word, guessed_letters):\n",
        "    displayed_word = ''\n",
        "    for letter in word:\n",
        "        if letter in guessed_letters:\n",
        "            displayed_word += letter + ' '\n",
        "        else:\n",
        "            displayed_word += '_ '\n",
        "    return displayed_word.strip()\n",
        "\n",
        "def hangman():\n",
        "    max_attempts = 6\n",
        "    guessed_letters = []\n",
        "    word = choose_word()\n",
        "\n",
        "    print(\"Welcome to Hangman!\")\n",
        "    print(display_word(word, guessed_letters))\n",
        "\n",
        "    while max_attempts > 0:\n",
        "        guess = input(\"Guess a letter: \").lower()\n",
        "\n",
        "        if len(guess) != 1 or not guess.isalpha():\n",
        "            print(\"Please enter a single letter.\")\n",
        "            continue\n",
        "\n",
        "        if guess in guessed_letters:\n",
        "            print(\"You already guessed that letter.\")\n",
        "            continue\n",
        "\n",
        "        guessed_letters.append(guess)\n",
        "\n",
        "        if guess not in word:\n",
        "            max_attempts -= 1\n",
        "\n",
        "        print(display_word(word, guessed_letters))\n",
        "\n",
        "        if '_' not in display_word(word, guessed_letters):\n",
        "            print(\"Congratulations! You guessed the word!\")\n",
        "            return\n",
        "\n",
        "    print(f\"Sorry, you ran out of attempts. The word was: {word}\")\n",
        "\n",
        "if __name__ == '__main__':\n",
        "    hangman()\n"
      ],
      "metadata": {
        "colab": {
          "base_uri": "https://localhost:8080/"
        },
        "id": "9Iaavc6dy5fk",
        "outputId": "6f80010c-b47d-48bd-8075-c8f1eb551839"
      },
      "execution_count": 3,
      "outputs": [
        {
          "output_type": "stream",
          "name": "stdout",
          "text": [
            "Welcome to Hangman!\n",
            "_ _ _ _ _ _ _ _ _ _ _ _\n",
            "Guess a letter: a\n",
            "_ _ _ _ _ _ _ _ _ _ _ _\n",
            "Guess a letter: i\n",
            "i _ _ _ _ _ i _ _ _ _ _\n",
            "Guess a letter: n\n",
            "i n _ _ _ _ i _ _ n _ _\n",
            "Guess a letter: t\n",
            "i n t _ _ _ i _ _ n _ _\n",
            "Guess a letter: e\n",
            "i n t e _ _ i _ e n _ e\n",
            "Guess a letter: l\n",
            "i n t e l l i _ e n _ e\n",
            "Guess a letter: g\n",
            "i n t e l l i g e n _ e\n",
            "Guess a letter: c\n",
            "i n t e l l i g e n c e\n",
            "Congratulations! You guessed the word!\n"
          ]
        }
      ]
    },
    {
      "cell_type": "code",
      "source": [
        "#Number Guessing Game: Create a program that generates a random number between\n",
        "#1 and 100, and then asks the user to guess the number. The program should\n",
        "#provide hints to the user if the guessed number is greater or less than\n",
        "# the target number, and keep asking for a new guess until the user guesses\n",
        "#correctly.\n",
        "import random\n",
        "\n",
        "def number_guessing_game():\n",
        "    target_number = random.randint(1, 100)\n",
        "    attempts = 0\n",
        "\n",
        "    print(\"Welcome to the Number Guessing Game!\")\n",
        "    print(\"I have selected a random number between 1 and 100. Try to guess it.\")\n",
        "\n",
        "    while True:\n",
        "        user_guess = int(input(\"Your guess: \"))\n",
        "        attempts += 1\n",
        "\n",
        "        if user_guess < target_number:\n",
        "            print(\"Too low! Try guessing higher.\")\n",
        "        elif user_guess > target_number:\n",
        "            print(\"Too high! Try guessing lower.\")\n",
        "        else:\n",
        "            print(f\"Congratulations! You've guessed the number in {attempts} attempts.\")\n",
        "            break\n",
        "\n",
        "if __name__ == '__main__':\n",
        "    number_guessing_game()\n"
      ],
      "metadata": {
        "colab": {
          "base_uri": "https://localhost:8080/"
        },
        "id": "8lOFRFwKzrzi",
        "outputId": "bdc8dc45-30d0-437f-8267-2e34112f9820"
      },
      "execution_count": 4,
      "outputs": [
        {
          "output_type": "stream",
          "name": "stdout",
          "text": [
            "Welcome to the Number Guessing Game!\n",
            "I have selected a random number between 1 and 100. Try to guess it.\n",
            "Your guess: 89\n",
            "Too high! Try guessing lower.\n",
            "Your guess: 5\n",
            "Too low! Try guessing higher.\n",
            "Your guess: 40\n",
            "Too low! Try guessing higher.\n",
            "Your guess: 55\n",
            "Too high! Try guessing lower.\n",
            "Your guess: 50\n",
            "Congratulations! You've guessed the number in 5 attempts.\n"
          ]
        }
      ]
    }
  ]
}